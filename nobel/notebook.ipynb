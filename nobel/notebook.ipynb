{
 "cells": [
  {
   "source": [
    "The Nobel Prize has been among the most prestigious international awards since 1901. Each year, awards are bestowed in chemistry, literature, physics, physiology or medicine, economics, and peace. In addition to the honor, prestige, and substantial prize money, the recipient also gets a gold medal with an image of Alfred Nobel (1833 - 1896), who established the prize.\n",
    "\n",
    "![](Nobel_Prize.png)\n",
    "\n",
    "The Nobel Foundation has made a dataset available of all prize winners from the outset of the awards from 1901 to 2023. The dataset used in this project is from the Nobel Prize API and is available in the `nobel.csv` file in the `data` folder.\n",
    "\n",
    "In this project, you'll get a chance to explore and answer several questions related to this prizewinning data. And we encourage you then to explore further questions that you're interested in!"
   ],
   "metadata": {},
   "id": "db5bd2ce-918a-4f7d-a927-a3ea74c4b456",
   "cell_type": "markdown"
  },
  {
   "source": [
    "# Loading in required libraries\n",
    "import pandas as pd\n",
    "import seaborn as sns\n",
    "import numpy as np\n",
    "\n",
    "# Start coding here!\n",
    "\n",
    "df = pd.read_csv('data/nobel.csv')\n",
    "df.head()"
   ],
   "metadata": {
    "executionCancelledAt": null,
    "executionTime": 44,
    "lastExecutedAt": 1714142944789,
    "lastExecutedByKernel": "4309b839-4506-4f3d-922b-c752f553bf18",
    "lastScheduledRunId": null,
    "lastSuccessfullyExecutedCode": "# Loading in required libraries\nimport pandas as pd\nimport seaborn as sns\nimport numpy as np\n\n# Start coding here!\n\ndf = pd.read_csv('data/nobel.csv')\ndf.head()",
    "outputsMetadata": {
     "0": {
      "height": 196,
      "type": "dataFrame"
     }
    },
    "ExecuteTime": {
     "end_time": "2024-04-27T14:03:52.651358Z",
     "start_time": "2024-04-27T14:03:52.638930Z"
    }
   },
   "id": "11fd5946-7bd1-495c-aa7f-ff6e7e4a350b",
   "cell_type": "code",
   "execution_count": 1,
   "outputs": [
    {
     "data": {
      "text/plain": "   year    category                                           prize  \\\n0  1901   Chemistry               The Nobel Prize in Chemistry 1901   \n1  1901  Literature              The Nobel Prize in Literature 1901   \n2  1901    Medicine  The Nobel Prize in Physiology or Medicine 1901   \n3  1901       Peace                      The Nobel Peace Prize 1901   \n4  1901       Peace                      The Nobel Peace Prize 1901   \n\n                                          motivation prize_share  laureate_id  \\\n0  \"in recognition of the extraordinary services ...         1/1          160   \n1  \"in special recognition of his poetic composit...         1/1          569   \n2  \"for his work on serum therapy, especially its...         1/1          293   \n3                                                NaN         1/2          462   \n4                                                NaN         1/2          463   \n\n  laureate_type                     full_name  birth_date         birth_city  \\\n0    Individual  Jacobus Henricus van 't Hoff  1852-08-30          Rotterdam   \n1    Individual               Sully Prudhomme  1839-03-16              Paris   \n2    Individual        Emil Adolf von Behring  1854-03-15  Hansdorf (Lawice)   \n3    Individual             Jean Henry Dunant  1828-05-08             Geneva   \n4    Individual                Frédéric Passy  1822-05-20              Paris   \n\n      birth_country   sex   organization_name organization_city  \\\n0       Netherlands  Male   Berlin University            Berlin   \n1            France  Male                 NaN               NaN   \n2  Prussia (Poland)  Male  Marburg University           Marburg   \n3       Switzerland  Male                 NaN               NaN   \n4            France  Male                 NaN               NaN   \n\n  organization_country  death_date death_city death_country  \n0              Germany  1911-03-01     Berlin       Germany  \n1                  NaN  1907-09-07   Châtenay        France  \n2              Germany  1917-03-31    Marburg       Germany  \n3                  NaN  1910-10-30     Heiden   Switzerland  \n4                  NaN  1912-06-12      Paris        France  ",
      "text/html": "<div>\n<style scoped>\n    .dataframe tbody tr th:only-of-type {\n        vertical-align: middle;\n    }\n\n    .dataframe tbody tr th {\n        vertical-align: top;\n    }\n\n    .dataframe thead th {\n        text-align: right;\n    }\n</style>\n<table border=\"1\" class=\"dataframe\">\n  <thead>\n    <tr style=\"text-align: right;\">\n      <th></th>\n      <th>year</th>\n      <th>category</th>\n      <th>prize</th>\n      <th>motivation</th>\n      <th>prize_share</th>\n      <th>laureate_id</th>\n      <th>laureate_type</th>\n      <th>full_name</th>\n      <th>birth_date</th>\n      <th>birth_city</th>\n      <th>birth_country</th>\n      <th>sex</th>\n      <th>organization_name</th>\n      <th>organization_city</th>\n      <th>organization_country</th>\n      <th>death_date</th>\n      <th>death_city</th>\n      <th>death_country</th>\n    </tr>\n  </thead>\n  <tbody>\n    <tr>\n      <th>0</th>\n      <td>1901</td>\n      <td>Chemistry</td>\n      <td>The Nobel Prize in Chemistry 1901</td>\n      <td>\"in recognition of the extraordinary services ...</td>\n      <td>1/1</td>\n      <td>160</td>\n      <td>Individual</td>\n      <td>Jacobus Henricus van 't Hoff</td>\n      <td>1852-08-30</td>\n      <td>Rotterdam</td>\n      <td>Netherlands</td>\n      <td>Male</td>\n      <td>Berlin University</td>\n      <td>Berlin</td>\n      <td>Germany</td>\n      <td>1911-03-01</td>\n      <td>Berlin</td>\n      <td>Germany</td>\n    </tr>\n    <tr>\n      <th>1</th>\n      <td>1901</td>\n      <td>Literature</td>\n      <td>The Nobel Prize in Literature 1901</td>\n      <td>\"in special recognition of his poetic composit...</td>\n      <td>1/1</td>\n      <td>569</td>\n      <td>Individual</td>\n      <td>Sully Prudhomme</td>\n      <td>1839-03-16</td>\n      <td>Paris</td>\n      <td>France</td>\n      <td>Male</td>\n      <td>NaN</td>\n      <td>NaN</td>\n      <td>NaN</td>\n      <td>1907-09-07</td>\n      <td>Châtenay</td>\n      <td>France</td>\n    </tr>\n    <tr>\n      <th>2</th>\n      <td>1901</td>\n      <td>Medicine</td>\n      <td>The Nobel Prize in Physiology or Medicine 1901</td>\n      <td>\"for his work on serum therapy, especially its...</td>\n      <td>1/1</td>\n      <td>293</td>\n      <td>Individual</td>\n      <td>Emil Adolf von Behring</td>\n      <td>1854-03-15</td>\n      <td>Hansdorf (Lawice)</td>\n      <td>Prussia (Poland)</td>\n      <td>Male</td>\n      <td>Marburg University</td>\n      <td>Marburg</td>\n      <td>Germany</td>\n      <td>1917-03-31</td>\n      <td>Marburg</td>\n      <td>Germany</td>\n    </tr>\n    <tr>\n      <th>3</th>\n      <td>1901</td>\n      <td>Peace</td>\n      <td>The Nobel Peace Prize 1901</td>\n      <td>NaN</td>\n      <td>1/2</td>\n      <td>462</td>\n      <td>Individual</td>\n      <td>Jean Henry Dunant</td>\n      <td>1828-05-08</td>\n      <td>Geneva</td>\n      <td>Switzerland</td>\n      <td>Male</td>\n      <td>NaN</td>\n      <td>NaN</td>\n      <td>NaN</td>\n      <td>1910-10-30</td>\n      <td>Heiden</td>\n      <td>Switzerland</td>\n    </tr>\n    <tr>\n      <th>4</th>\n      <td>1901</td>\n      <td>Peace</td>\n      <td>The Nobel Peace Prize 1901</td>\n      <td>NaN</td>\n      <td>1/2</td>\n      <td>463</td>\n      <td>Individual</td>\n      <td>Frédéric Passy</td>\n      <td>1822-05-20</td>\n      <td>Paris</td>\n      <td>France</td>\n      <td>Male</td>\n      <td>NaN</td>\n      <td>NaN</td>\n      <td>NaN</td>\n      <td>1912-06-12</td>\n      <td>Paris</td>\n      <td>France</td>\n    </tr>\n  </tbody>\n</table>\n</div>"
     },
     "execution_count": 1,
     "metadata": {},
     "output_type": "execute_result"
    }
   ]
  },
  {
   "source": [
    "top_gender = df['sex'].value_counts().sort_values(ascending=False).index[0]\n",
    "top_country = df['birth_country'].value_counts().sort_values(ascending=False).index[0]"
   ],
   "metadata": {
    "executionCancelledAt": null,
    "executionTime": 52,
    "lastExecutedAt": 1714142944841,
    "lastExecutedByKernel": "4309b839-4506-4f3d-922b-c752f553bf18",
    "lastScheduledRunId": null,
    "lastSuccessfullyExecutedCode": "top_gender = df['sex'].value_counts().sort_values(ascending=False).index[0]\ntop_country = df['birth_country'].value_counts().sort_values(ascending=False).index[0]",
    "outputsMetadata": {
     "0": {
      "height": 121,
      "type": "dataFrame"
     }
    },
    "ExecuteTime": {
     "end_time": "2024-04-27T14:03:52.657233Z",
     "start_time": "2024-04-27T14:03:52.656885Z"
    }
   },
   "cell_type": "code",
   "id": "0ed3f055-7a7f-43b8-88ca-3a332923e9ba",
   "outputs": [],
   "execution_count": 2
  },
  {
   "source": [
    "df['decade'] = (df['year'] // 10) * 10\n",
    "def get_ratio_us_to_others(group):\n",
    "    amout_us_winners = (\n",
    "        group[group['birth_country'] == 'United States of America']['birth_country'].count()\n",
    "    )\n",
    "    amout_all_winners = group['birth_country'].count()\n",
    "    return amout_us_winners / amout_all_winners\n",
    "\n",
    "ratio_per_decade = df.groupby('decade').apply(get_ratio_us_to_others)\n",
    "\n",
    "max_decade_usa = ratio_per_decade.sort_values(ascending=False).index[0]"
   ],
   "metadata": {
    "executionCancelledAt": null,
    "executionTime": 51,
    "lastExecutedAt": 1714142944893,
    "lastExecutedByKernel": "4309b839-4506-4f3d-922b-c752f553bf18",
    "lastScheduledRunId": null,
    "lastSuccessfullyExecutedCode": "df['decade'] = (df['year'] // 10) * 10\ndef get_ratio_us_to_others(group):\n    amout_us_winners = (\n        group[group['birth_country'] == 'United States of America']['birth_country'].count()\n    )\n    amout_all_winners = group['birth_country'].count()\n    return amout_us_winners / amout_all_winners\n\nratio_per_decade = df.groupby('decade').apply(get_ratio_us_to_others)\n\nmax_decade_usa = ratio_per_decade.sort_values(ascending=False).index[0]",
    "outputsMetadata": {
     "0": {
      "height": 321,
      "type": "dataFrame"
     }
    },
    "ExecuteTime": {
     "end_time": "2024-04-27T14:03:52.663986Z",
     "start_time": "2024-04-27T14:03:52.657052Z"
    }
   },
   "cell_type": "code",
   "id": "cda5559a-c756-4d79-8a30-9a3116be16fb",
   "outputs": [
    {
     "name": "stderr",
     "output_type": "stream",
     "text": [
      "/var/folders/9c/dh3yhrb55296prf50tbgxdk80000gn/T/ipykernel_57534/603579066.py:9: DeprecationWarning: DataFrameGroupBy.apply operated on the grouping columns. This behavior is deprecated, and in a future version of pandas the grouping columns will be excluded from the operation. Either pass `include_groups=False` to exclude the groupings or explicitly select the grouping columns after groupby to silence this warning.\n",
      "  ratio_per_decade = df.groupby('decade').apply(get_ratio_us_to_others)\n"
     ]
    }
   ],
   "execution_count": 3
  },
  {
   "source": [
    "def get_female_proportion(group):\n",
    "    amount_of_women = group[group['sex'] == 'Female']['sex'].count()\n",
    "    amount_of_all = group['sex'].count()\n",
    "    return amount_of_women / amount_of_all\n",
    "    \n",
    "df_female_proportion = df.groupby(['decade', 'category']).apply(get_female_proportion).sort_values(ascending=False).reset_index()\n",
    "max_female = df_female_proportion.loc[1, :]\n",
    "max_female_dict = {\n",
    "    max_female['decade']: max_female['category']\n",
    "}\n",
    "max_female_dict\n",
    "df_female_proportion.head()"
   ],
   "metadata": {
    "executionCancelledAt": null,
    "executionTime": 52,
    "lastExecutedAt": 1714142944946,
    "lastExecutedByKernel": "4309b839-4506-4f3d-922b-c752f553bf18",
    "lastScheduledRunId": null,
    "lastSuccessfullyExecutedCode": "def get_female_proportion(group):\n    amount_of_women = group[group['sex'] == 'Female']['sex'].count()\n    amount_of_all = group['sex'].count()\n    return amount_of_women / amount_of_all\n    \ndf_female_proportion = df.groupby(['decade', 'category']).apply(get_female_proportion).sort_values(ascending=False).reset_index()\nmax_female = df_female_proportion.loc[1, :]\nmax_female_dict = {\n    max_female['decade']: max_female['category']\n}\nmax_female_dict\ndf_female_proportion.head()",
    "outputsMetadata": {
     "0": {
      "height": 196,
      "type": "dataFrame"
     }
    },
    "ExecuteTime": {
     "end_time": "2024-04-27T14:03:52.715485Z",
     "start_time": "2024-04-27T14:03:52.664240Z"
    }
   },
   "cell_type": "code",
   "id": "1f93ac6b-68a4-43b0-9e28-afde4ceb22ea",
   "outputs": [
    {
     "name": "stderr",
     "output_type": "stream",
     "text": [
      "/var/folders/9c/dh3yhrb55296prf50tbgxdk80000gn/T/ipykernel_57534/3575339403.py:6: DeprecationWarning: DataFrameGroupBy.apply operated on the grouping columns. This behavior is deprecated, and in a future version of pandas the grouping columns will be excluded from the operation. Either pass `include_groups=False` to exclude the groupings or explicitly select the grouping columns after groupby to silence this warning.\n",
      "  df_female_proportion = df.groupby(['decade', 'category']).apply(get_female_proportion).sort_values(ascending=False).reset_index()\n"
     ]
    },
    {
     "data": {
      "text/plain": "   decade    category    0\n0    2020       Peace  0.5\n1    2020  Literature  0.5\n2    2010       Peace  0.5\n3    1990  Literature  0.3\n4    2000  Literature  0.3",
      "text/html": "<div>\n<style scoped>\n    .dataframe tbody tr th:only-of-type {\n        vertical-align: middle;\n    }\n\n    .dataframe tbody tr th {\n        vertical-align: top;\n    }\n\n    .dataframe thead th {\n        text-align: right;\n    }\n</style>\n<table border=\"1\" class=\"dataframe\">\n  <thead>\n    <tr style=\"text-align: right;\">\n      <th></th>\n      <th>decade</th>\n      <th>category</th>\n      <th>0</th>\n    </tr>\n  </thead>\n  <tbody>\n    <tr>\n      <th>0</th>\n      <td>2020</td>\n      <td>Peace</td>\n      <td>0.5</td>\n    </tr>\n    <tr>\n      <th>1</th>\n      <td>2020</td>\n      <td>Literature</td>\n      <td>0.5</td>\n    </tr>\n    <tr>\n      <th>2</th>\n      <td>2010</td>\n      <td>Peace</td>\n      <td>0.5</td>\n    </tr>\n    <tr>\n      <th>3</th>\n      <td>1990</td>\n      <td>Literature</td>\n      <td>0.3</td>\n    </tr>\n    <tr>\n      <th>4</th>\n      <td>2000</td>\n      <td>Literature</td>\n      <td>0.3</td>\n    </tr>\n  </tbody>\n</table>\n</div>"
     },
     "execution_count": 4,
     "metadata": {},
     "output_type": "execute_result"
    }
   ],
   "execution_count": 4
  },
  {
   "source": [
    "first_woman = df[df['sex'] == 'Female'].sort_values(by='year').iloc[0]\n",
    "first_woman_name = first_woman['full_name']\n",
    "first_woman_category = first_woman['category']"
   ],
   "metadata": {
    "executionCancelledAt": null,
    "executionTime": 51,
    "lastExecutedAt": 1714142944997,
    "lastExecutedByKernel": "4309b839-4506-4f3d-922b-c752f553bf18",
    "lastScheduledRunId": null,
    "lastSuccessfullyExecutedCode": "first_woman = df[df['sex'] == 'Female'].sort_values(by='year').iloc[0]\nfirst_woman_name = first_woman['full_name']\nfirst_woman_category = first_woman['category']",
    "ExecuteTime": {
     "end_time": "2024-04-27T14:03:52.715721Z",
     "start_time": "2024-04-27T14:03:52.680737Z"
    }
   },
   "cell_type": "code",
   "id": "a32ea3db-7b89-43ff-80fb-774f5f007a6a",
   "outputs": [],
   "execution_count": 5
  },
  {
   "source": [
    "counts = df['full_name'].value_counts()\n",
    "repeat_list = list(counts[counts >= 2].index)\n",
    "repeat_list"
   ],
   "metadata": {
    "executionCancelledAt": null,
    "executionTime": 57,
    "lastExecutedAt": 1714142945054,
    "lastExecutedByKernel": "4309b839-4506-4f3d-922b-c752f553bf18",
    "lastScheduledRunId": null,
    "lastSuccessfullyExecutedCode": "counts = df['full_name'].value_counts()\nrepeat_list = list(counts[counts >= 2].index)\nrepeat_list",
    "outputsMetadata": {
     "0": {
      "height": 246,
      "type": "dataFrame"
     }
    },
    "ExecuteTime": {
     "end_time": "2024-04-27T14:03:52.715888Z",
     "start_time": "2024-04-27T14:03:52.684942Z"
    }
   },
   "cell_type": "code",
   "id": "9502a81d-b4f7-47da-9b34-043ab7a06e07",
   "outputs": [
    {
     "data": {
      "text/plain": "['Comité international de la Croix Rouge (International Committee of the Red Cross)',\n 'Linus Carl Pauling',\n 'John Bardeen',\n 'Frederick Sanger',\n 'Marie Curie, née Sklodowska',\n 'Office of the United Nations High Commissioner for Refugees (UNHCR)']"
     },
     "execution_count": 6,
     "metadata": {},
     "output_type": "execute_result"
    }
   ],
   "execution_count": 6
  }
 ],
 "metadata": {
  "language_info": {
   "name": "python",
   "version": "3.8.10",
   "mimetype": "text/x-python",
   "codemirror_mode": {
    "name": "ipython",
    "version": 3
   },
   "pygments_lexer": "ipython3",
   "nbconvert_exporter": "python",
   "file_extension": ".py"
  },
  "kernelspec": {
   "display_name": "Python 3 (ipykernel)",
   "language": "python",
   "name": "python3"
  },
  "editor": "DataCamp Workspace"
 },
 "nbformat": 4,
 "nbformat_minor": 5
}
